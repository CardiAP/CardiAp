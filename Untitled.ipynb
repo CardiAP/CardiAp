{
 "cells": [
  {
   "cell_type": "code",
   "execution_count": 1,
   "id": "229515a1",
   "metadata": {
    "tags": []
   },
   "outputs": [
    {
     "data": {
      "application/vnd.jupyter.widget-view+json": {
       "model_id": "cf99a7d29a964f6e82e797df9051a1cb",
       "version_major": 2,
       "version_minor": 0
      },
      "text/plain": [
       "FileChooser(path='/home/leandro/Documentos/Analisis_de_imagenes/CardiAP/CardiAp', filename='', title='<b>FileC…"
      ]
     },
     "metadata": {},
     "output_type": "display_data"
    }
   ],
   "source": [
    "from ipyfilechooser import FileChooser\n",
    "import threading\n",
    "from IPython.display import display\n",
    "# Create and display a FileChooser widget\n",
    "fc = FileChooser()\n",
    "# fc.show_only_dirs = True\n",
    "# Change the title (use '' to hide)\n",
    "fc.title = '<b>FileChooser title</b>'\n",
    "display(fc)\n",
    "# Register callback function\n",
    "# fc.register_callback(print_mensaje(fc.selected))"
   ]
  },
  {
   "cell_type": "code",
   "execution_count": null,
   "id": "dd3623a1",
   "metadata": {},
   "outputs": [
    {
     "data": {
      "application/vnd.jupyter.widget-view+json": {
       "model_id": "122a4cbabd01492180fd4fbcdcd462b9",
       "version_major": 2,
       "version_minor": 0
      },
      "text/plain": [
       "FileChooser(path='/home/leandro/Documentos/Analisis_de_imagenes/CardiAP/CardiAp', filename='', title='', show_…"
      ]
     },
     "metadata": {},
     "output_type": "display_data"
    },
    {
     "name": "stdout",
     "output_type": "stream",
     "text": [
      "Esperando a que se seleccione un archivo...\n"
     ]
    }
   ],
   "source": [
    "import threading\n",
    "from ipyfilechooser import FileChooser\n",
    "from IPython.display import display\n",
    "\n",
    "selected_file = None\n",
    "file_chooser = FileChooser()\n",
    "fc.show_only_dirs = True\n",
    "def seleccionar_archivo():\n",
    "    global selected_file\n",
    "    while True:\n",
    "        selected_file = file_chooser.selected\n",
    "        if selected_file:\n",
    "            break\n",
    "\n",
    "# Crear un hilo para la selección del archivo\n",
    "hilo_seleccion = threading.Thread(target=seleccionar_archivo)\n",
    "\n",
    "# Iniciar la ejecución del hilo de selección\n",
    "hilo_seleccion.start()\n",
    "\n",
    "# Mostrar el selector de archivos en el hilo principal\n",
    "display(file_chooser)\n",
    "\n",
    "print(\"Esperando a que se seleccione un archivo...\")\n",
    "# Esperar hasta que se seleccione un archivo\n",
    "hilo_seleccion.join()\n",
    "\n",
    "print(\"Archivo seleccionado:\", selected_file)\n",
    "print(\"Continuar con otras tareas después de seleccionar el archivo.\")"
   ]
  },
  {
   "cell_type": "code",
   "execution_count": 2,
   "id": "17ad5046",
   "metadata": {},
   "outputs": [
    {
     "name": "stdout",
     "output_type": "stream",
     "text": [
      "None\n"
     ]
    },
    {
     "data": {
      "application/vnd.jupyter.widget-view+json": {
       "model_id": "4a3dfb666da04578b63d74409eedfe2f",
       "version_major": 2,
       "version_minor": 0
      },
      "text/plain": [
       "FileChooser(path='/home/leandro/Documentos/Analisis_de_imagenes/CardiAP/CardiAp', filename='', title='', show_…"
      ]
     },
     "metadata": {},
     "output_type": "display_data"
    },
    {
     "name": "stdout",
     "output_type": "stream",
     "text": [
      "None\n"
     ]
    }
   ],
   "source": [
    "import ipywidgets as widgets\n",
    "from ipyfilechooser import FileChooser\n",
    "from IPython.display import display\n",
    "import time\n",
    "\n",
    "file_chooser = FileChooser()\n",
    "file_chooser.show_only_dirs = True\n",
    "selected_file = file_chooser.selected\n",
    "print(selected_file)\n",
    "display(file_chooser)\n",
    "\n",
    "# while selected_file==None:\n",
    "\n",
    "#     if :\n",
    "#         display(file_chooser)\n",
    "#     elif selected_file!=None:\n",
    "#         print(\"Archivo seleccionado:\", selected_file)\n",
    "#         file_chooser.disabled = True\n",
    "        \n",
    "\n",
    "\n",
    "# print(\"Selecciona un archivo...\")"
   ]
  },
  {
   "cell_type": "code",
   "execution_count": 3,
   "id": "c286c6da",
   "metadata": {},
   "outputs": [
    {
     "data": {
      "application/vnd.jupyter.widget-view+json": {
       "model_id": "ba1e5e6c33184b54b9a2595741c59710",
       "version_major": 2,
       "version_minor": 0
      },
      "text/plain": [
       "Button(description='Seleccionar archivo', style=ButtonStyle())"
      ]
     },
     "metadata": {},
     "output_type": "display_data"
    },
    {
     "data": {
      "application/vnd.jupyter.widget-view+json": {
       "model_id": "12e2b10439ad4f76a71468b1ce7ca88d",
       "version_major": 2,
       "version_minor": 0
      },
      "text/plain": [
       "Text(value='')"
      ]
     },
     "metadata": {},
     "output_type": "display_data"
    }
   ],
   "source": [
    "import ipywidgets as widgets\n",
    "from ipywidgets import interactive\n",
    "from IPython.display import display\n",
    "import tkinter as tk\n",
    "from tkinter import filedialog\n",
    "\n",
    "def seleccionar_archivo():\n",
    "    root = tk.Tk()\n",
    "    root.withdraw()  # Ocultar la ventana principal de Tkinter\n",
    "\n",
    "    file_path = filedialog.askopenfilename()  # Mostrar el cuadro de diálogo para seleccionar un archivo\n",
    "\n",
    "    if file_path:\n",
    "        ruta_widget.value = file_path\n",
    "\n",
    "ruta_widget = widgets.Text()\n",
    "boton_seleccionar = widgets.Button(description=\"Seleccionar archivo\")\n",
    "boton_seleccionar.on_click(lambda _: seleccionar_archivo())\n",
    "\n",
    "display(boton_seleccionar)\n",
    "display(ruta_widget)"
   ]
  },
  {
   "cell_type": "code",
   "execution_count": 8,
   "id": "65f29318",
   "metadata": {},
   "outputs": [
    {
     "ename": "TypeError",
     "evalue": "'FileChooser' object is not iterable",
     "output_type": "error",
     "traceback": [
      "\u001b[0;31m---------------------------------------------------------------------------\u001b[0m",
      "\u001b[0;31mTypeError\u001b[0m                                 Traceback (most recent call last)",
      "\u001b[0;32m<ipython-input-8-7b7ebe2cad4e>\u001b[0m in \u001b[0;36m<module>\u001b[0;34m\u001b[0m\n\u001b[1;32m      6\u001b[0m     \u001b[0mselected_file\u001b[0m \u001b[0;34m=\u001b[0m \u001b[0mfile_chooser\u001b[0m\u001b[0;34m.\u001b[0m\u001b[0mselected\u001b[0m\u001b[0;34m\u001b[0m\u001b[0;34m\u001b[0m\u001b[0m\n\u001b[1;32m      7\u001b[0m \u001b[0;34m\u001b[0m\u001b[0m\n\u001b[0;32m----> 8\u001b[0;31m \u001b[0mresult\u001b[0m \u001b[0;34m=\u001b[0m \u001b[0msubprocess\u001b[0m\u001b[0;34m.\u001b[0m\u001b[0mrun\u001b[0m\u001b[0;34m(\u001b[0m\u001b[0mFileChooser\u001b[0m\u001b[0;34m(\u001b[0m\u001b[0;34m)\u001b[0m\u001b[0;34m)\u001b[0m\u001b[0;34m\u001b[0m\u001b[0;34m\u001b[0m\u001b[0m\n\u001b[0m\u001b[1;32m      9\u001b[0m \u001b[0;34m\u001b[0m\u001b[0m\n\u001b[1;32m     10\u001b[0m \u001b[0mprint\u001b[0m\u001b[0;34m(\u001b[0m\u001b[0mresult\u001b[0m\u001b[0;34m.\u001b[0m\u001b[0mstdout\u001b[0m\u001b[0;34m)\u001b[0m\u001b[0;34m\u001b[0m\u001b[0;34m\u001b[0m\u001b[0m\n",
      "\u001b[0;32m~/anaconda3/envs/cardiap/lib/python3.8/subprocess.py\u001b[0m in \u001b[0;36mrun\u001b[0;34m(input, capture_output, timeout, check, *popenargs, **kwargs)\u001b[0m\n\u001b[1;32m    491\u001b[0m         \u001b[0mkwargs\u001b[0m\u001b[0;34m[\u001b[0m\u001b[0;34m'stderr'\u001b[0m\u001b[0;34m]\u001b[0m \u001b[0;34m=\u001b[0m \u001b[0mPIPE\u001b[0m\u001b[0;34m\u001b[0m\u001b[0;34m\u001b[0m\u001b[0m\n\u001b[1;32m    492\u001b[0m \u001b[0;34m\u001b[0m\u001b[0m\n\u001b[0;32m--> 493\u001b[0;31m     \u001b[0;32mwith\u001b[0m \u001b[0mPopen\u001b[0m\u001b[0;34m(\u001b[0m\u001b[0;34m*\u001b[0m\u001b[0mpopenargs\u001b[0m\u001b[0;34m,\u001b[0m \u001b[0;34m**\u001b[0m\u001b[0mkwargs\u001b[0m\u001b[0;34m)\u001b[0m \u001b[0;32mas\u001b[0m \u001b[0mprocess\u001b[0m\u001b[0;34m:\u001b[0m\u001b[0;34m\u001b[0m\u001b[0;34m\u001b[0m\u001b[0m\n\u001b[0m\u001b[1;32m    494\u001b[0m         \u001b[0;32mtry\u001b[0m\u001b[0;34m:\u001b[0m\u001b[0;34m\u001b[0m\u001b[0;34m\u001b[0m\u001b[0m\n\u001b[1;32m    495\u001b[0m             \u001b[0mstdout\u001b[0m\u001b[0;34m,\u001b[0m \u001b[0mstderr\u001b[0m \u001b[0;34m=\u001b[0m \u001b[0mprocess\u001b[0m\u001b[0;34m.\u001b[0m\u001b[0mcommunicate\u001b[0m\u001b[0;34m(\u001b[0m\u001b[0minput\u001b[0m\u001b[0;34m,\u001b[0m \u001b[0mtimeout\u001b[0m\u001b[0;34m=\u001b[0m\u001b[0mtimeout\u001b[0m\u001b[0;34m)\u001b[0m\u001b[0;34m\u001b[0m\u001b[0;34m\u001b[0m\u001b[0m\n",
      "\u001b[0;32m~/anaconda3/envs/cardiap/lib/python3.8/subprocess.py\u001b[0m in \u001b[0;36m__init__\u001b[0;34m(self, args, bufsize, executable, stdin, stdout, stderr, preexec_fn, close_fds, shell, cwd, env, universal_newlines, startupinfo, creationflags, restore_signals, start_new_session, pass_fds, encoding, errors, text)\u001b[0m\n\u001b[1;32m    856\u001b[0m                             encoding=encoding, errors=errors)\n\u001b[1;32m    857\u001b[0m \u001b[0;34m\u001b[0m\u001b[0m\n\u001b[0;32m--> 858\u001b[0;31m             self._execute_child(args, executable, preexec_fn, close_fds,\n\u001b[0m\u001b[1;32m    859\u001b[0m                                 \u001b[0mpass_fds\u001b[0m\u001b[0;34m,\u001b[0m \u001b[0mcwd\u001b[0m\u001b[0;34m,\u001b[0m \u001b[0menv\u001b[0m\u001b[0;34m,\u001b[0m\u001b[0;34m\u001b[0m\u001b[0;34m\u001b[0m\u001b[0m\n\u001b[1;32m    860\u001b[0m                                 \u001b[0mstartupinfo\u001b[0m\u001b[0;34m,\u001b[0m \u001b[0mcreationflags\u001b[0m\u001b[0;34m,\u001b[0m \u001b[0mshell\u001b[0m\u001b[0;34m,\u001b[0m\u001b[0;34m\u001b[0m\u001b[0;34m\u001b[0m\u001b[0m\n",
      "\u001b[0;32m~/anaconda3/envs/cardiap/lib/python3.8/subprocess.py\u001b[0m in \u001b[0;36m_execute_child\u001b[0;34m(self, args, executable, preexec_fn, close_fds, pass_fds, cwd, env, startupinfo, creationflags, shell, p2cread, p2cwrite, c2pread, c2pwrite, errread, errwrite, restore_signals, start_new_session)\u001b[0m\n\u001b[1;32m   1567\u001b[0m                 \u001b[0margs\u001b[0m \u001b[0;34m=\u001b[0m \u001b[0;34m[\u001b[0m\u001b[0margs\u001b[0m\u001b[0;34m]\u001b[0m\u001b[0;34m\u001b[0m\u001b[0;34m\u001b[0m\u001b[0m\n\u001b[1;32m   1568\u001b[0m             \u001b[0;32melse\u001b[0m\u001b[0;34m:\u001b[0m\u001b[0;34m\u001b[0m\u001b[0;34m\u001b[0m\u001b[0m\n\u001b[0;32m-> 1569\u001b[0;31m                 \u001b[0margs\u001b[0m \u001b[0;34m=\u001b[0m \u001b[0mlist\u001b[0m\u001b[0;34m(\u001b[0m\u001b[0margs\u001b[0m\u001b[0;34m)\u001b[0m\u001b[0;34m\u001b[0m\u001b[0;34m\u001b[0m\u001b[0m\n\u001b[0m\u001b[1;32m   1570\u001b[0m \u001b[0;34m\u001b[0m\u001b[0m\n\u001b[1;32m   1571\u001b[0m             \u001b[0;32mif\u001b[0m \u001b[0mshell\u001b[0m\u001b[0;34m:\u001b[0m\u001b[0;34m\u001b[0m\u001b[0;34m\u001b[0m\u001b[0m\n",
      "\u001b[0;31mTypeError\u001b[0m: 'FileChooser' object is not iterable"
     ]
    }
   ],
   "source": [
    "import subprocess\n",
    "\n",
    "def choose_file():\n",
    "    file_chooser = FileChooser()\n",
    "    file_chooser.show_only_dirs = True\n",
    "    selected_file = file_chooser.selected\n",
    "    \n",
    "result = subprocess.run(FileChooser())\n",
    "\n",
    "print(result.stdout)"
   ]
  },
  {
   "cell_type": "code",
   "execution_count": null,
   "id": "cb771303",
   "metadata": {},
   "outputs": [],
   "source": []
  }
 ],
 "metadata": {
  "kernelspec": {
   "display_name": "Python (cardiap)",
   "language": "python",
   "name": "cardiap"
  },
  "language_info": {
   "codemirror_mode": {
    "name": "ipython",
    "version": 3
   },
   "file_extension": ".py",
   "mimetype": "text/x-python",
   "name": "python",
   "nbconvert_exporter": "python",
   "pygments_lexer": "ipython3",
   "version": "3.8.10"
  }
 },
 "nbformat": 4,
 "nbformat_minor": 5
}
