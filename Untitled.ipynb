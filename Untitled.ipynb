{
 "cells": [
  {
   "cell_type": "code",
   "execution_count": null,
   "id": "229515a1",
   "metadata": {
    "tags": []
   },
   "outputs": [],
   "source": [
    "from ipyfilechooser import FileChooser\n",
    "import threading\n",
    "from IPython.display import display\n",
    "# Create and display a FileChooser widget\n",
    "fc = FileChooser()\n",
    "# fc.show_only_dirs = True\n",
    "# Change the title (use '' to hide)\n",
    "fc.title = '<b>FileChooser title</b>'\n",
    "display(fc)\n",
    "# Register callback function\n",
    "# fc.register_callback(print_mensaje(fc.selected))"
   ]
  },
  {
   "cell_type": "code",
   "execution_count": null,
   "id": "dd3623a1",
   "metadata": {},
   "outputs": [],
   "source": [
    "import threading\n",
    "from ipyfilechooser import FileChooser\n",
    "from IPython.display import display\n",
    "\n",
    "selected_file = None\n",
    "file_chooser = FileChooser()\n",
    "fc.show_only_dirs = True\n",
    "def seleccionar_archivo():\n",
    "    global selected_file\n",
    "    while True:\n",
    "        selected_file = file_chooser.selected\n",
    "        if selected_file:\n",
    "            break\n",
    "\n",
    "# Crear un hilo para la selección del archivo\n",
    "hilo_seleccion = threading.Thread(target=seleccionar_archivo)\n",
    "\n",
    "# Iniciar la ejecución del hilo de selección\n",
    "hilo_seleccion.start()\n",
    "\n",
    "# Mostrar el selector de archivos en el hilo principal\n",
    "display(file_chooser)\n",
    "\n",
    "print(\"Esperando a que se seleccione un archivo...\")\n",
    "# Esperar hasta que se seleccione un archivo\n",
    "hilo_seleccion.join()\n",
    "\n",
    "print(\"Archivo seleccionado:\", selected_file)\n",
    "print(\"Continuar con otras tareas después de seleccionar el archivo.\")"
   ]
  },
  {
   "cell_type": "code",
   "execution_count": null,
   "id": "17ad5046",
   "metadata": {},
   "outputs": [],
   "source": [
    "import ipywidgets as widgets\n",
    "from ipyfilechooser import FileChooser\n",
    "from IPython.display import display\n",
    "import time\n",
    "\n",
    "file_chooser = FileChooser()\n",
    "file_chooser.show_only_dirs = True\n",
    "selected_file = file_chooser.selected\n",
    "print(selected_file)\n",
    "display(file_chooser)\n",
    "\n",
    "# while selected_file==None:\n",
    "\n",
    "#     if :\n",
    "#         display(file_chooser)\n",
    "#     elif selected_file!=None:\n",
    "#         print(\"Archivo seleccionado:\", selected_file)\n",
    "#         file_chooser.disabled = True\n",
    "        \n",
    "\n",
    "\n",
    "# print(\"Selecciona un archivo...\")"
   ]
  },
  {
   "cell_type": "code",
   "execution_count": null,
   "id": "c286c6da",
   "metadata": {},
   "outputs": [],
   "source": [
    "import ipywidgets as widgets\n",
    "from ipywidgets import interactive\n",
    "from IPython.display import display\n",
    "import tkinter as tk\n",
    "from tkinter import filedialog\n",
    "\n",
    "def seleccionar_archivo():\n",
    "    root = tk.Tk()\n",
    "    root.withdraw()  # Ocultar la ventana principal de Tkinter\n",
    "\n",
    "    file_path = filedialog.askopenfilename()  # Mostrar el cuadro de diálogo para seleccionar un archivo\n",
    "\n",
    "    if file_path:\n",
    "        ruta_widget.value = file_path\n",
    "\n",
    "ruta_widget = widgets.Text()\n",
    "boton_seleccionar = widgets.Button(description=\"Seleccionar archivo\")\n",
    "boton_seleccionar.on_click(lambda _: seleccionar_archivo())\n",
    "\n",
    "display(boton_seleccionar)\n",
    "display(ruta_widget)"
   ]
  },
  {
   "cell_type": "code",
   "execution_count": null,
   "id": "65f29318",
   "metadata": {},
   "outputs": [],
   "source": [
    "import subprocess\n",
    "\n",
    "def choose_file():\n",
    "    file_chooser = FileChooser()\n",
    "    file_chooser.show_only_dirs = True\n",
    "    selected_file = file_chooser.selected\n",
    "    \n",
    "result = subprocess.run(FileChooser())\n",
    "\n",
    "print(result.stdout)"
   ]
  },
  {
   "cell_type": "code",
   "execution_count": 1,
   "id": "cb771303",
   "metadata": {},
   "outputs": [],
   "source": [
    "import numpy as np\n",
    "import pandas as pd\n",
    "from math import log\n",
    "from numpy.linalg import lstsq\n",
    "import matplotlib.pyplot as plt\n",
    "\n",
    "def _calculate_tau(times, intensities):\n",
    "    def _log(intensity):\n",
    "        if intensity != 0: \n",
    "            return log(intensity)\n",
    "        else:\n",
    "            raise TausError(\"Zero intensity\")\n",
    "            \n",
    "    if len(times) == 0 or len(intensities) == 0:\n",
    "        return 0\n",
    "    else:\n",
    "        x_axis = np.asarray([[1, t] for t in times])\n",
    "        y_axis = np.asarray([_log(intensity) for intensity in intensities]).T\n",
    "        (w, _, _, _) = lstsq(x_axis, y_axis, rcond=None)\n",
    "        return -1.0 / w[1]\n",
    "\n",
    "def calculate_taus(intensities, max_peaks_positions, min_peaks_positions, calibration=1):\n",
    "    taus = []\n",
    "    times = np.asarray(range(0, len(intensities))) * calibration\n",
    "    for (max_index, min_index) in np.column_stack((max_peaks_positions, min_peaks_positions)):\n",
    "        time_between_peaks = np.asarray(times[max_index:min_index])\n",
    "        intensities_between_peaks = np.asarray(intensities[max_index:min_index])\n",
    "\n",
    "        taus.append(_calculate_tau(time_between_peaks, intensities_between_peaks))\n",
    "\n",
    "    return taus"
   ]
  },
  {
   "cell_type": "code",
   "execution_count": 2,
   "id": "e571aa92",
   "metadata": {
    "scrolled": false
   },
   "outputs": [
    {
     "data": {
      "text/plain": [
       "Index(['Distance_(pixels)', 'Gray_Value'], dtype='object')"
      ]
     },
     "execution_count": 2,
     "metadata": {},
     "output_type": "execute_result"
    }
   ],
   "source": [
    "df = pd.read_csv('/home/lean/Documentos/Plot Values.csv')\n",
    "df.keys()"
   ]
  },
  {
   "cell_type": "code",
   "execution_count": 31,
   "id": "3fc8b56b",
   "metadata": {},
   "outputs": [
    {
     "name": "stdout",
     "output_type": "stream",
     "text": [
      "52\n",
      "56\n",
      "52\n",
      "52\n",
      "54\n",
      "56\n",
      "54\n",
      "56\n"
     ]
    }
   ],
   "source": [
    "def closest(lst, K):\n",
    "    return lst[min(range(len(lst)), key = lambda i: abs(lst[i]-K))]\n",
    "\n",
    "max_peaks_positions = [21,78,138,197,255,313,372,430]\n",
    "min_peaks_positions = [68,128,186,245,304,363,422,480]\n",
    "intensities = np.array(df['Gray_Value'])\n",
    "calibration = 2\n",
    "times = np.asarray(range(0, len(intensities)))\n",
    "for i in range(len(max_peaks_positions)):\n",
    "    max_index = max_peaks_positions[i]\n",
    "    min_index = min_peaks_positions[i]\n",
    "        \n",
    "    time_between_peaks = np.asarray(times[max_index:min_index])\n",
    "    intensities_between_peaks = np.asarray(intensities[max_index:min_index])\n",
    "    \n",
    "    maxim = intensities[max_index]\n",
    "    minim = intensities[min_index]\n",
    "    df1 = intensities[max_index:min_index]\n",
    "    lst = df1\n",
    "    K = ((maxim-minim)*0.367879441)+minim\n",
    "    print(np.where(lst==closest(lst, K))[0][0]*calibration)"
   ]
  },
  {
   "cell_type": "code",
   "execution_count": null,
   "id": "f3989bc6",
   "metadata": {},
   "outputs": [],
   "source": [
    "from numpy.polynomial.polynomial import polyfit\n",
    "\n",
    "x = x_axis\n",
    "y = y_axis\n",
    "b, m = polyfit(x, y, 1)\n",
    "\n",
    "plt.plot(x, y, '.')\n",
    "plt.plot(x, b + m * x, '-')\n",
    "m"
   ]
  },
  {
   "cell_type": "code",
   "execution_count": null,
   "id": "a7a08016",
   "metadata": {},
   "outputs": [],
   "source": [
    "plt.plot(df['Gray_Value'][220:325])"
   ]
  }
 ],
 "metadata": {
  "kernelspec": {
   "display_name": "cardiap",
   "language": "python",
   "name": "cardiap"
  },
  "language_info": {
   "codemirror_mode": {
    "name": "ipython",
    "version": 3
   },
   "file_extension": ".py",
   "mimetype": "text/x-python",
   "name": "python",
   "nbconvert_exporter": "python",
   "pygments_lexer": "ipython3",
   "version": "3.8.10"
  }
 },
 "nbformat": 4,
 "nbformat_minor": 5
}
