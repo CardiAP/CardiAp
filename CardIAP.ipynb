{
 "cells": [
  {
   "cell_type": "code",
   "execution_count": 2,
   "metadata": {},
   "outputs": [
    {
     "name": "stdout",
     "output_type": "stream",
     "text": [
      "Enabling notebook extension jupyter-js-widgets/extension...\n",
      "      - Validating: \u001b[32mOK\u001b[0m\n",
      "Enabling: voila\n",
      "- Writing config: /home/ana/Documents/CardiAp/cardiap/etc/jupyter\n",
      "    - Validating...\n",
      "      voila 0.2.10 \u001b[32mOK\u001b[0m\n"
     ]
    }
   ],
   "source": [
    "!jupyter nbextension enable --py widgetsnbextension --sys-prefix\n",
    "!jupyter serverextension enable voila --sys-prefix"
   ]
  },
  {
   "cell_type": "code",
   "execution_count": 198,
   "metadata": {},
   "outputs": [],
   "source": [
    "import ipywidgets as widgets\n",
    "from IPython.display import display, clear_output\n",
    "from ipywidgets import Layout, Button, Box, Text\n",
    "from lib.image import image_data\n",
    "from lib.analysis import dyssynchrony_analysis\n",
    "import cv2"
   ]
  },
  {
   "cell_type": "code",
   "execution_count": 321,
   "metadata": {},
   "outputs": [],
   "source": [
    "def cardiaAp_analyzer(image):\n",
    "    # Select ROI\n",
    "    fromCenter = False\n",
    "    showCrosshair = False\n",
    "    seleted_parameters = cv2.selectROI(image, fromCenter, showCrosshair)\n",
    "\n",
    "    # Crop image\n",
    "    x_start = int(seleted_parameters[1])\n",
    "    x_end = x_start + int(seleted_parameters[3])\n",
    "    y_start = int(seleted_parameters[0]) \n",
    "    y_end = y_start + int(seleted_parameters[2])\n",
    "\n",
    "    cv2.destroyAllWindows()\n",
    "    image = image_data.get_image_data(image)\n",
    "    image = image_data.crop_vertical(image, x_start, x_end)\n",
    "    image = image_data.crop_horizontal(image, y_start, y_end)\n",
    "\n",
    "    return dyssynchrony_analysis.analyze_image(image, \\\n",
    "                                               min_dist_between_maxs.value, \\\n",
    "                                               calibration.value, \\\n",
    "                                               slice_width=slice_width.value)"
   ]
  },
  {
   "cell_type": "code",
   "execution_count": 308,
   "metadata": {},
   "outputs": [],
   "source": [
    "#Uploader button\n",
    "uploader = widgets.FileUpload(accept='.tif', multiple=False)\n",
    "\n",
    "#Input text for settings\n",
    "slice_width = widgets.FloatText(\n",
    "    value=0,\n",
    "    description='Slice width:',\n",
    "    disabled=False    \n",
    ")\n",
    "\n",
    "slice_width = widgets.IntText(\n",
    "    value=0,\n",
    "    description='Slice width:',\n",
    "    disabled=False\n",
    ")\n",
    "\n",
    "\n",
    "min_dist_between_maxs = widgets.IntText(\n",
    "    value=0,\n",
    "    description='Dist between maxs:',\n",
    "    disabled=False\n",
    ")\n",
    "\n",
    "calibration = widgets.IntText(\n",
    "    value=0,\n",
    "    description='Calibration:',\n",
    "    disabled=False\n",
    ")"
   ]
  },
  {
   "cell_type": "code",
   "execution_count": 309,
   "metadata": {},
   "outputs": [],
   "source": [
    "html = \"<h1 style='font-size:25px; color:black; margin-left: 15px'> Welcome to Cardi<b>AP</b> </h1>\"\n",
    "header_text = widgets.HTML(value=html)"
   ]
  },
  {
   "cell_type": "code",
   "execution_count": 310,
   "metadata": {},
   "outputs": [],
   "source": [
    "html_text_upload = \"<p style='font-size:15px; color:black'> Upload you image to inicialize the analysis</p>\"\n",
    "header_text_upload = widgets.HTML(value=html_text_upload)\n",
    "\n",
    "box_upload = Layout(display='flex',\n",
    "                    flex_flow='flex-wrap',\n",
    "                    width='50%',\n",
    "                    margin='0px 10px 10px 0px',\n",
    "                    padding='0px 25px 25px 25px',\n",
    "                    justify_content='space-between')\n",
    "\n",
    "vbox_upload = widgets.VBox([header_text_upload, uploader], layout=box_upload)"
   ]
  },
  {
   "cell_type": "code",
   "execution_count": 311,
   "metadata": {},
   "outputs": [],
   "source": [
    "#Display the div\n",
    "box_layout = Layout(display='flex',\n",
    "                    flex_flow='column',\n",
    "                    align_items='stretch',\n",
    "                    width='50%',\n",
    "                    margin='0px 10px 10px 0px',\n",
    "                    padding='0px 25px 25px 25px',\n",
    "                    justify_content='space-between')\n",
    "\n",
    "vbox_settings = widgets.VBox([slice_width, min_dist_between_maxs, calibration], layout=box_layout)"
   ]
  },
  {
   "cell_type": "code",
   "execution_count": 317,
   "metadata": {},
   "outputs": [],
   "source": [
    "import numpy as np\n",
    "\n",
    "analyze_btn = widgets.Button(description=\"Analyze\", button_style='danger')\n",
    "\n",
    "def load_cv2_image_from_bytes(bytes_):\n",
    "    return cv2.imdecode(np.frombuffer(bytes_, dtype=np.uint8), cv2.IMREAD_COLOR)\n",
    "\n",
    "def get_uploader_content(uploader):\n",
    "    return uploader.value[list(uploader.value)[0]][\"content\"]\n",
    "\n",
    "def on_button_clicked(_button):\n",
    "    print(\"Analyzing...\")\n",
    "    cardiaAp_analyzer(load_cv2_image_from_bytes(get_uploader_content(uploader)))\n",
    "    clear_uploader(uploader)\n",
    "    \n",
    "analyze_btn.on_click(on_button_clicked)"
   ]
  },
  {
   "cell_type": "code",
   "execution_count": 313,
   "metadata": {},
   "outputs": [],
   "source": [
    "def clear_uploader(uploader):\n",
    "    uploader.value.clear()\n",
    "    uploader._counter = 0"
   ]
  },
  {
   "cell_type": "code",
   "execution_count": 322,
   "metadata": {},
   "outputs": [
    {
     "data": {
      "application/vnd.jupyter.widget-view+json": {
       "model_id": "d8f1b3b8112b45caa66fa60031ea8ba0",
       "version_major": 2,
       "version_minor": 0
      },
      "text/plain": [
       "HTML(value=\"<h1 style='font-size:25px; color:black; margin-left: 15px'> Welcome to Cardi<b>AP</b> </h1>\")"
      ]
     },
     "metadata": {},
     "output_type": "display_data"
    },
    {
     "data": {
      "application/vnd.jupyter.widget-view+json": {
       "model_id": "7b73b1e97dda4341b020c04c64b91b06",
       "version_major": 2,
       "version_minor": 0
      },
      "text/plain": [
       "VBox(children=(HTML(value=\"<p style='font-size:15px; color:black'> Upload you image to inicialize the analysis…"
      ]
     },
     "metadata": {},
     "output_type": "display_data"
    },
    {
     "data": {
      "application/vnd.jupyter.widget-view+json": {
       "model_id": "ba0ad86c8b4040208ea7689aee5e7b4f",
       "version_major": 2,
       "version_minor": 0
      },
      "text/plain": [
       "VBox(children=(IntText(value=1, description='Slice width:'), IntText(value=10, description='Dist between maxs:…"
      ]
     },
     "metadata": {},
     "output_type": "display_data"
    },
    {
     "data": {
      "application/vnd.jupyter.widget-view+json": {
       "model_id": "d3aa7e78074f4025bc4ca42f8634d8b2",
       "version_major": 2,
       "version_minor": 0
      },
      "text/plain": [
       "Button(button_style='danger', description='Analyze', style=ButtonStyle())"
      ]
     },
     "metadata": {},
     "output_type": "display_data"
    },
    {
     "name": "stdout",
     "output_type": "stream",
     "text": [
      "Analyzing...\n"
     ]
    },
    {
     "name": "stderr",
     "output_type": "stream",
     "text": [
      "/home/ana/Documents/CardiAp/cardiap/lib/python3.8/site-packages/numpy/core/fromnumeric.py:3419: RuntimeWarning: Mean of empty slice.\n",
      "  return _methods._mean(a, axis=axis, dtype=dtype,\n",
      "/home/ana/Documents/CardiAp/cardiap/lib/python3.8/site-packages/numpy/core/_methods.py:188: RuntimeWarning: invalid value encountered in double_scalars\n",
      "  ret = ret.dtype.type(ret / rcount)\n",
      "/home/ana/Documents/CardiAp/lib/analysis/statistical_functions.py:41: RuntimeWarning: invalid value encountered in short_scalars\n",
      "  amplitude = (max_peaks_intensities[i] - min_peaks_intensities[i]) / min_peaks_intensities[i]\n"
     ]
    }
   ],
   "source": [
    "clear_uploader(uploader)\n",
    "display(header_text)\n",
    "display(vbox_upload)\n",
    "display(vbox_settings)\n",
    "\n",
    "display(analyze_btn)"
   ]
  },
  {
   "cell_type": "code",
   "execution_count": null,
   "metadata": {},
   "outputs": [],
   "source": []
  }
 ],
 "metadata": {
  "kernelspec": {
   "display_name": "Python 3",
   "language": "python",
   "name": "python3"
  },
  "language_info": {
   "codemirror_mode": {
    "name": "ipython",
    "version": 3
   },
   "file_extension": ".py",
   "mimetype": "text/x-python",
   "name": "python",
   "nbconvert_exporter": "python",
   "pygments_lexer": "ipython3",
   "version": "3.8.8"
  }
 },
 "nbformat": 4,
 "nbformat_minor": 4
}
