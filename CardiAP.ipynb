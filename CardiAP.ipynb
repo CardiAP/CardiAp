{
 "cells": [
  {
   "cell_type": "code",
   "execution_count": 1,
   "metadata": {},
   "outputs": [],
   "source": [
    "# !jupyter nbextension enable --py widgetsnbextension --sys-prefix\n",
    "# !jupyter serverextension enable voila --sys-prefix"
   ]
  },
  {
   "cell_type": "code",
   "execution_count": 2,
   "metadata": {},
   "outputs": [],
   "source": [
    "import matplotlib.pyplot as plt\n",
    "import seaborn as sns"
   ]
  },
  {
   "cell_type": "code",
   "execution_count": 3,
   "metadata": {},
   "outputs": [],
   "source": [
    "import cv2"
   ]
  },
  {
   "cell_type": "code",
   "execution_count": 4,
   "metadata": {},
   "outputs": [],
   "source": [
    "import ipywidgets as widgets\n",
    "from ipywidgets import Layout, Button, Box, Text"
   ]
  },
  {
   "cell_type": "code",
   "execution_count": 5,
   "metadata": {},
   "outputs": [],
   "source": [
    "from IPython.display import display, clear_output"
   ]
  },
  {
   "cell_type": "code",
   "execution_count": 6,
   "metadata": {},
   "outputs": [],
   "source": [
    "from lib.image import image_data\n",
    "from lib.analysis import dyssynchrony_analysis"
   ]
  },
  {
   "cell_type": "code",
   "execution_count": 7,
   "metadata": {},
   "outputs": [],
   "source": [
    "import numpy as np\n",
    "import pandas as pd"
   ]
  },
  {
   "cell_type": "code",
   "execution_count": 8,
   "metadata": {},
   "outputs": [],
   "source": [
    "import warnings\n",
    "warnings.filterwarnings(\"ignore\", category=np.VisibleDeprecationWarning) \n",
    "warnings.filterwarnings(\"ignore\", category=RuntimeWarning) "
   ]
  },
  {
   "cell_type": "code",
   "execution_count": 19,
   "metadata": {},
   "outputs": [],
   "source": [
    "def load_cv2_image_from_bytes(bytes_):\n",
    "    return cv2.imdecode(np.frombuffer(bytes_, dtype=np.uint8), cv2.IMREAD_COLOR)\n",
    "\n",
    "def get_uploader_content(uploader):\n",
    "    return uploader.value[list(uploader.value)[0]][\"content\"]\n",
    "\n",
    "def display_html(html):\n",
    "    display(widgets.HTML(value=html))\n",
    "\n",
    "def display_results(analysis_results):\n",
    "    \"\"\"\n",
    "    Displays the results into the results_box. \n",
    "    Every print or display will be automatically redirected to it. \n",
    "    \"\"\"\n",
    "    results_box.clear_output()\n",
    "    \n",
    "    # this is just a sample table...\n",
    "    display_html(\"<h2>Slices Table</h2>\")\n",
    "    display(pd.DataFrame(analysis_results[\"slices\"]))\n",
    "\n",
    "    # ... this is a sample plot\n",
    "    display_html(\"<h2>Image Intensities</h2>\")\n",
    "    sns.histplot(pd.DataFrame(analysis_results[\"image\"][\"intensities\"]))\n",
    "    \n",
    "    plt.show()\n",
    "    \n",
    "    \n",
    "    \n",
    "def clear_uploader(uploader):\n",
    "    uploader.value.clear()\n",
    "    uploader._counter = 0\n",
    "\n",
    "def cardiaAp_analyzer(image):\n",
    "    return dyssynchrony_analysis.analyze_image(image, \\\n",
    "                                               min_dist_between_maxs.value, \\\n",
    "                                               calibration.value, \\\n",
    "                                               slice_width=slice_width.value)"
   ]
  },
  {
   "cell_type": "code",
   "execution_count": 16,
   "metadata": {},
   "outputs": [],
   "source": [
    "#Uploader button\n",
    "uploader = widgets.FileUpload(accept='.tif', multiple=False)\n",
    "\n",
    "slice_width = widgets.IntText(\n",
    "    value=1,\n",
    "    description='Slice width:',\n",
    "    disabled=False\n",
    ")\n",
    "\n",
    "min_dist_between_maxs = widgets.IntText(\n",
    "    value=0,\n",
    "    description='Dist between maxs:',\n",
    "    disabled=False\n",
    ")\n",
    "\n",
    "calibration = widgets.IntText(\n",
    "    value=0,\n",
    "    description='Calibration:',\n",
    "    disabled=False\n",
    ")"
   ]
  },
  {
   "cell_type": "code",
   "execution_count": 12,
   "metadata": {},
   "outputs": [],
   "source": [
    "html_text_upload = \"<p style='font-size:15px; color:black'> Upload you image to initialize the analysis</p>\"\n",
    "header_text_upload = widgets.HTML(value=html_text_upload)\n",
    "\n",
    "box_upload = Layout(display='flex',\n",
    "                    flex_flow='flex-wrap',\n",
    "                    width='50%',\n",
    "                    margin='0px 10px 10px 0px',\n",
    "                    padding='0px 25px 25px 25px',\n",
    "                    justify_content='space-between')\n",
    "\n",
    "vbox_upload = widgets.VBox([header_text_upload, uploader], layout=box_upload)"
   ]
  },
  {
   "cell_type": "code",
   "execution_count": 13,
   "metadata": {},
   "outputs": [],
   "source": [
    "box_layout = Layout(display='flex',\n",
    "                    flex_flow='column',\n",
    "                    align_items='stretch',\n",
    "                    width='50%',\n",
    "                    margin='0px 10px 10px 0px',\n",
    "                    padding='0px 25px 25px 25px',\n",
    "                    justify_content='space-between')\n",
    "\n",
    "vbox_settings = widgets.VBox([slice_width, min_dist_between_maxs, calibration], layout=box_layout)"
   ]
  },
  {
   "cell_type": "code",
   "execution_count": 14,
   "metadata": {},
   "outputs": [],
   "source": [
    "analyze_btn = widgets.Button(description=\"Analyze\", button_style='danger')\n",
    "results_box = widgets.Output()\n",
    "\n",
    "@results_box.capture()\n",
    "def on_button_clicked(_button):\n",
    "    global analysis_results\n",
    "    results_box.clear_output()\n",
    "\n",
    "    if uploader._counter == 0:\n",
    "        print(\"Please upload an image first\")\n",
    "    else:\n",
    "        print(\"Anayzing, please wait...\")\n",
    "        analysis_results = cardiaAp_analyzer(load_cv2_image_from_bytes(get_uploader_content(uploader)))\n",
    "        display_results(analysis_results)\n",
    "        clear_uploader(uploader)\n",
    "        \n",
    "analyze_btn.on_click(on_button_clicked)"
   ]
  },
  {
   "cell_type": "code",
   "execution_count": 17,
   "metadata": {
    "scrolled": true
   },
   "outputs": [
    {
     "data": {
      "application/vnd.jupyter.widget-view+json": {
       "model_id": "825eb56251ae41b6bb63869c0181d6c7",
       "version_major": 2,
       "version_minor": 0
      },
      "text/plain": [
       "HTML(value=\"<h1 style='font-size:25px; color:black; margin-left: 15px'> Welcome to Cardi<b>AP</b> </h1>\")"
      ]
     },
     "metadata": {},
     "output_type": "display_data"
    },
    {
     "data": {
      "application/vnd.jupyter.widget-view+json": {
       "model_id": "7fa77101ed0044538ec8d46e97c61f85",
       "version_major": 2,
       "version_minor": 0
      },
      "text/plain": [
       "VBox(children=(HTML(value=\"<p style='font-size:15px; color:black'> Upload you image to initialize the analysis…"
      ]
     },
     "metadata": {},
     "output_type": "display_data"
    },
    {
     "data": {
      "application/vnd.jupyter.widget-view+json": {
       "model_id": "22a3469e73f24ed6bc95178521cc5d99",
       "version_major": 2,
       "version_minor": 0
      },
      "text/plain": [
       "VBox(children=(IntText(value=1, description='Slice width:'), IntText(value=0, description='Dist between maxs:'…"
      ]
     },
     "metadata": {},
     "output_type": "display_data"
    },
    {
     "data": {
      "application/vnd.jupyter.widget-view+json": {
       "model_id": "45b5d4731ddf433abf6c07c250f37185",
       "version_major": 2,
       "version_minor": 0
      },
      "text/plain": [
       "Button(button_style='danger', description='Analyze', style=ButtonStyle())"
      ]
     },
     "metadata": {},
     "output_type": "display_data"
    },
    {
     "data": {
      "application/vnd.jupyter.widget-view+json": {
       "model_id": "e8736c38649541788c06b05665bf413b",
       "version_major": 2,
       "version_minor": 0
      },
      "text/plain": [
       "Output(outputs=({'output_type': 'display_data', 'data': {'text/plain': \"HTML(value='<h2>Slices Table</h2>')\", …"
      ]
     },
     "metadata": {},
     "output_type": "display_data"
    }
   ],
   "source": [
    "clear_uploader(uploader)\n",
    "display_html(\"<h1 style='font-size:25px; color:black; margin-left: 15px'> Welcome to Cardi<b>AP</b> </h1>\")\n",
    "\n",
    "display(vbox_upload)\n",
    "display(vbox_settings)\n",
    "\n",
    "display(analyze_btn)\n",
    "display(results_box)"
   ]
  }
 ],
 "metadata": {
  "kernelspec": {
   "display_name": "Python 3",
   "language": "python",
   "name": "python3"
  },
  "language_info": {
   "codemirror_mode": {
    "name": "ipython",
    "version": 3
   },
   "file_extension": ".py",
   "mimetype": "text/x-python",
   "name": "python",
   "nbconvert_exporter": "python",
   "pygments_lexer": "ipython3",
   "version": "3.8.8"
  }
 },
 "nbformat": 4,
 "nbformat_minor": 4
}
