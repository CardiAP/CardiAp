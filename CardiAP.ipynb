{
 "cells": [
  {
   "cell_type": "code",
   "execution_count": 1,
   "metadata": {},
   "outputs": [],
   "source": [
    "# !jupyter nbextension enable --py widgetsnbextension --sys-prefix\n",
    "# !jupyter serverextension enable voila --sys-prefix"
   ]
  },
  {
   "cell_type": "code",
   "execution_count": 2,
   "metadata": {},
   "outputs": [],
   "source": [
    "import matplotlib.pyplot as plt\n",
    "import seaborn as sns"
   ]
  },
  {
   "cell_type": "code",
   "execution_count": 3,
   "metadata": {},
   "outputs": [],
   "source": [
    "import base64"
   ]
  },
  {
   "cell_type": "code",
   "execution_count": 4,
   "metadata": {},
   "outputs": [],
   "source": [
    "import cv2"
   ]
  },
  {
   "cell_type": "code",
   "execution_count": 5,
   "metadata": {},
   "outputs": [],
   "source": [
    "import ipywidgets as widgets\n",
    "from ipywidgets import Layout, Button, Box, Text, HBox, VBox, Image"
   ]
  },
  {
   "cell_type": "code",
   "execution_count": 6,
   "metadata": {},
   "outputs": [],
   "source": [
    "from IPython.display import display, clear_output\n",
    "from IPython.display import HTML"
   ]
  },
  {
   "cell_type": "code",
   "execution_count": 7,
   "metadata": {},
   "outputs": [],
   "source": [
    "from lib.image import image_data\n",
    "from lib.analysis import dyssynchrony_analysis"
   ]
  },
  {
   "cell_type": "code",
   "execution_count": 8,
   "metadata": {},
   "outputs": [],
   "source": [
    "import numpy as np\n",
    "import pandas as pd\n",
    "\n",
    "pd.set_option('display.max_rows', 20)"
   ]
  },
  {
   "cell_type": "code",
   "execution_count": 9,
   "metadata": {},
   "outputs": [],
   "source": [
    "import warnings\n",
    "warnings.filterwarnings(\"ignore\", category=np.VisibleDeprecationWarning) \n",
    "warnings.filterwarnings(\"ignore\", category=RuntimeWarning) "
   ]
  },
  {
   "cell_type": "code",
   "execution_count": 10,
   "metadata": {},
   "outputs": [],
   "source": [
    "def load_cv2_image_from_bytes(bytes_):\n",
    "    return cv2.imdecode(np.frombuffer(bytes_, dtype=np.uint8), cv2.IMREAD_COLOR)\n",
    "\n",
    "def get_uploader_content(uploader):\n",
    "    return uploader.value[list(uploader.value)[0]][\"content\"]\n",
    "\n",
    "def display_html(html):\n",
    "    display(widgets.HTML(value=html))\n",
    "    \n",
    "def create_download_link( df, title = \"Download CSV file\", filename = \"data.csv\"):\n",
    "    csv = df.to_csv()\n",
    "    b64 = base64.b64encode(csv.encode())\n",
    "    payload = b64.decode()\n",
    "    html = '<a download=\"{filename}\" href=\"data:text/csv;base64,{payload}\" target=\"_blank\">{title}</a>'\n",
    "    html = html.format(payload=payload,title=title,filename=filename)\n",
    "    return HTML(html)\n",
    "    \n",
    "def create_inttext(description, min = None, max = None):\n",
    "    return widgets.BoundedIntText(\n",
    "        value=0,\n",
    "        min = min,\n",
    "        max = max,\n",
    "        description=description,\n",
    "        disabled=False\n",
    "    )\n",
    "    \n",
    "def plot_analysis_result_slice(df,slice_number):\n",
    "    \n",
    "    fig, ((ax1, ax2)) = plt.subplots(2, figsize=(20,10))\n",
    "\n",
    "    ax1.plot(df.loc[slice_number, \"amplitudes\"])\n",
    "    ax1.set_title('amplitudes')\n",
    "    ax1.grid()\n",
    "\n",
    "    # log y axi\n",
    "    ax2.plot(df.loc[slice_number, \"intensities\"])\n",
    "    ax2.set_title('Intensities')\n",
    "    ax2.grid()\n",
    "    \n",
    "    plt.show()    \n",
    "\n",
    "def read_progress_img():\n",
    "    animatedGif = \"./assets/progress.gif\"\n",
    "    with open(animatedGif , \"rb\") as file:\n",
    "        return file.read()\n",
    "\n",
    "def create_image(image):\n",
    "    return Image(\n",
    "        value=image,\n",
    "        format='gif',\n",
    "        width=100,\n",
    "        height=100)\n",
    "\n",
    " \n",
    "def render_image_visualization(analysis_results):\n",
    "    render_analysis_results_visualization(analysis_results, \n",
    "                                          title = \"Peaks\",\n",
    "                                          kind = \"image\",\n",
    "                                          download_filename = \"complete_cell\")\n",
    "\n",
    "\n",
    "def render_slice_visualization(analysis_results, slice_number):\n",
    "    render_analysis_results_visualization(analysis_results, \n",
    "                                          title = \"Slice\",\n",
    "                                          kind = \"slices\",\n",
    "                                          download_filename = f\"slice_{slice_number}\",\n",
    "                                          slice_number = slice_number)\n",
    "\n",
    "    \n",
    "def render_analysis_results_visualization(analysis_results, title, kind, download_filename, slice_number = 0):\n",
    "    display_html(f\"<h3>{title} table</h3>\")\n",
    "    table = build_analysis_results_table(analysis_results, kind = kind)\n",
    "    table = table[table.slice_number == slice_number]\n",
    "    table = table.drop(columns = \"slice_number\")\n",
    "    display(table)\n",
    "    \n",
    "    with_progress(lambda: display(create_download_link(table, title = f\"Download {title} Table\", filename = f\"{download_filename}.csv\")))    \n",
    "\n",
    "    display_html(f\"<h3>{title} plot</h3>\")\n",
    "    with_progress(lambda: plot_analysis_result_slice(analysis_results[kind], slice_number))    \n",
    "    \n",
    "    \n",
    "def display_results(analysis_results):\n",
    "    \"\"\"\n",
    "    Displays the results into the results_box. \n",
    "    Every print or display will be automatically redirected to it. \n",
    "    \"\"\"\n",
    "    results_box.clear_output()\n",
    "    \n",
    "    display_html(\"<h2>Complete Cell</h2>\")\n",
    "    render_image_visualization(analysis_results)\n",
    "    \n",
    "    display_html(\"<h2>Slices General Data</h2>\")\n",
    "\n",
    "    table = build_analysis_results_table(analysis_results, kind = 'slices')\n",
    "    with_progress(lambda: display(\n",
    "        create_download_link(\n",
    "            build_analysis_results_table(analysis_results, kind = 'slices'), \n",
    "            title = \"Download Slices Table\", \n",
    "            filename = \"slices.csv\")))    \n",
    "\n",
    "    display_html(\"<h2 style='margin-top:20px; margin-botton:15px'>Slices Detail</h2>\")\n",
    "    slice_selector = create_inttext(\"Plot slice: \", min = 0, max = len(analysis_results[\"slices\"]) - 1)\n",
    "    plot_btn = widgets.Button(description=\"Show details\", button_style='danger')\n",
    "    plot_box = widgets.Output()\n",
    "\n",
    "    \n",
    "    @plot_box.capture()\n",
    "    def on_button_clicked(_button):\n",
    "        plot_box.clear_output()\n",
    "        render_slice_visualization(analysis_results, slice_selector.value)\n",
    "        \n",
    "        \n",
    "    plot_btn.on_click(on_button_clicked)\n",
    "    \n",
    "    display(slice_selector)\n",
    "    display(plot_btn)\n",
    "    display(plot_box)\n",
    "\n",
    "def with_progress(code):\n",
    "    progress = create_image(read_progress_img())\n",
    "    display(progress)\n",
    "    code()\n",
    "    progress.close()\n",
    "    \n",
    "def clear_uploader(uploader):\n",
    "    uploader.value.clear()\n",
    "    uploader._counter = 0\n",
    "\n",
    "def cardiaAp_analyzer(image):\n",
    "    return dyssynchrony_analysis.analyze_image(image, \\\n",
    "                                               min_dist_between_maxs.value, \\\n",
    "                                               calibration.value, \\\n",
    "                                               slice_width=slice_width.value)\n",
    "\n",
    "def transpose_results_table(df):\n",
    "    result = df[[\"amplitudes\", \"max_peaks_positions\", \"max_peaks_intensities\", \"times_to_peaks\",  \"times_to_half_peaks\", \"tau_s\"]].apply(pd.Series.explode).reset_index()\n",
    "    result = result.rename(columns = {\"index\": \"slice_number\"})\n",
    "    result = result.astype({\n",
    "        \"amplitudes\":\"float\", \n",
    "        \"max_peaks_positions\":\"int\",\n",
    "        \"max_peaks_intensities\":\"int\",\n",
    "        \"times_to_peaks\": \"int\", \n",
    "        \"times_to_half_peaks\": \"int\",\n",
    "        \"tau_s\": \"float\"\n",
    "     })\n",
    "    return result\n",
    "\n",
    "def build_analysis_results_table(analysis_results, kind):\n",
    "    \"\"\"\n",
    "    Build the final output analysis results table.\n",
    "    This function works both for building slices table - where you will get a row for each slice and position - \n",
    "    or and for building image table - where you get a single row for each position\n",
    "    Final tables contains the same columns as raw analysis results, except by min_* columns and amplitudes\n",
    "    \"\"\"\n",
    "    return transpose_results_table(last_analysis_results[kind])\n",
    "    "
   ]
  },
  {
   "cell_type": "code",
   "execution_count": 11,
   "metadata": {},
   "outputs": [],
   "source": [
    "uploader = widgets.FileUpload(accept='.tif', multiple=False)\n",
    "\n",
    "slice_width = widgets.IntText(\n",
    "    value=1,\n",
    "    description='Slice width:',\n",
    "    disabled=False\n",
    ")\n",
    "\n",
    "min_dist_between_maxs = widgets.IntText(\n",
    "    value=0,\n",
    "    description='Dist between maxs:',\n",
    "    disabled=False\n",
    ")\n",
    "\n",
    "calibration = widgets.IntText(\n",
    "    value=0,\n",
    "    description='Calibration:',\n",
    "    disabled=False\n",
    ")"
   ]
  },
  {
   "cell_type": "code",
   "execution_count": 12,
   "metadata": {},
   "outputs": [],
   "source": [
    "html_text_upload = \"<p style='font-size:15px; color:black'> Upload your image to initialize the analysis</p>\"\n",
    "header_text_upload = widgets.HTML(value=html_text_upload)\n",
    "\n",
    "box_upload = Layout(display='flex',\n",
    "                    flex_flow='flex-wrap',\n",
    "                    width='50%',\n",
    "                    margin='0px 10px 10px 0px',\n",
    "                    padding=' 2px 5px 0 5px',\n",
    "                    justify_content='space-between')\n",
    "\n",
    "vbox_upload = widgets.VBox([header_text_upload, uploader], layout=box_upload)"
   ]
  },
  {
   "cell_type": "code",
   "execution_count": 13,
   "metadata": {},
   "outputs": [],
   "source": [
    "box_layout = Layout(display='flex',\n",
    "                    flex_flow='column',\n",
    "                    align_items='stretch',\n",
    "                    width='50%',\n",
    "                    margin='0px 10px 10px 0px',\n",
    "                    padding=' 2px 5px 0 5px',\n",
    "                    justify_content='space-between')\n",
    "\n",
    "vbox_settings = widgets.VBox([slice_width, min_dist_between_maxs, calibration], layout=box_layout)"
   ]
  },
  {
   "cell_type": "code",
   "execution_count": 14,
   "metadata": {},
   "outputs": [],
   "source": [
    "analyze_btn = widgets.Button(description=\"Analyze\", button_style='danger')\n",
    "results_box = widgets.Output()\n",
    "\n",
    "@results_box.capture()\n",
    "def on_button_clicked(_button):\n",
    "    \"\"\"\n",
    "    Runs analysis and displays results. \n",
    "    It stores them in last_analysis_results\n",
    "    for debugging purposes\n",
    "    \"\"\"\n",
    "    global last_analysis_results\n",
    "    results_box.clear_output()\n",
    "\n",
    "    if uploader._counter == 0:\n",
    "        print(\"Please upload an image first\")\n",
    "    else:\n",
    "        print(\"Anayzing, please wait...\")\n",
    "        raw_results = cardiaAp_analyzer(load_cv2_image_from_bytes(get_uploader_content(uploader)))\n",
    "        last_analysis_results = {\n",
    "            \"raw\": raw_results,\n",
    "            \"image\": pd.DataFrame([raw_results[\"image\"]]),\n",
    "            \"slices\":  pd.DataFrame(raw_results[\"slices\"])\n",
    "        }\n",
    "        display_results(last_analysis_results)\n",
    "        clear_uploader(uploader)\n",
    "        \n",
    "analyze_btn.on_click(on_button_clicked)"
   ]
  },
  {
   "cell_type": "code",
   "execution_count": 15,
   "metadata": {
    "tags": []
   },
   "outputs": [
    {
     "data": {
      "application/vnd.jupyter.widget-view+json": {
       "model_id": "b2c5a7f796474a1a96eca97e94fb2c7b",
       "version_major": 2,
       "version_minor": 0
      },
      "text/plain": [
       "HTML(value=\"<h1 style='font-size:25px; color:black'> Welcome to Cardi<b>AP</b> </h1>\")"
      ]
     },
     "metadata": {},
     "output_type": "display_data"
    },
    {
     "data": {
      "application/vnd.jupyter.widget-view+json": {
       "model_id": "3fe61d44066a4b6dbdf1e2422a3798b8",
       "version_major": 2,
       "version_minor": 0
      },
      "text/plain": [
       "VBox(children=(HTML(value=\"<p style='font-size:15px; color:black'> Upload your image to initialize the analysi…"
      ]
     },
     "metadata": {},
     "output_type": "display_data"
    },
    {
     "data": {
      "application/vnd.jupyter.widget-view+json": {
       "model_id": "014aa6303c5a4f4885a2f4185a57ec3d",
       "version_major": 2,
       "version_minor": 0
      },
      "text/plain": [
       "VBox(children=(IntText(value=1, description='Slice width:'), IntText(value=0, description='Dist between maxs:'…"
      ]
     },
     "metadata": {},
     "output_type": "display_data"
    },
    {
     "data": {
      "application/vnd.jupyter.widget-view+json": {
       "model_id": "3b3b48c23e7e487486c6ee3d5515c448",
       "version_major": 2,
       "version_minor": 0
      },
      "text/plain": [
       "Button(button_style='danger', description='Analyze', style=ButtonStyle())"
      ]
     },
     "metadata": {},
     "output_type": "display_data"
    },
    {
     "data": {
      "application/vnd.jupyter.widget-view+json": {
       "model_id": "b4f4509f24b8433b9a91c5bb88ad1c0a",
       "version_major": 2,
       "version_minor": 0
      },
      "text/plain": [
       "Output()"
      ]
     },
     "metadata": {},
     "output_type": "display_data"
    }
   ],
   "source": [
    "clear_uploader(uploader)\n",
    "display_html(\"<h1 style='font-size:25px; color:black'> Welcome to Cardi<b>AP</b> </h1>\")\n",
    "\n",
    "display(vbox_upload)\n",
    "display(vbox_settings)\n",
    "\n",
    "display(analyze_btn)\n",
    "display(results_box)"
   ]
  },
  {
   "cell_type": "code",
   "execution_count": 16,
   "metadata": {},
   "outputs": [],
   "source": [
    "# columns = last_analysis_results[\"slices\"].columns"
   ]
  },
  {
   "cell_type": "code",
   "execution_count": 17,
   "metadata": {},
   "outputs": [],
   "source": [
    "# columns = last_analysis_results[\"slices\"].columns\n",
    "# for column in columns: \n",
    "#     print(column, len(last_analysis_results[\"slices\"].loc[0, column]))"
   ]
  }
 ],
 "metadata": {
  "kernelspec": {
   "display_name": "Python 3",
   "language": "python",
   "name": "python3"
  },
  "language_info": {
   "codemirror_mode": {
    "name": "ipython",
    "version": 3
   },
   "file_extension": ".py",
   "mimetype": "text/x-python",
   "name": "python",
   "nbconvert_exporter": "python",
   "pygments_lexer": "ipython3",
   "version": "3.8.8"
  }
 },
 "nbformat": 4,
 "nbformat_minor": 4
}
